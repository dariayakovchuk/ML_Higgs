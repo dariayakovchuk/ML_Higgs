{
 "cells": [
  {
   "cell_type": "code",
   "execution_count": 1,
   "metadata": {},
   "outputs": [],
   "source": [
    "import numpy as np\n",
    "from implementations import *\n",
    "from helpers import *"
   ]
  },
  {
   "cell_type": "markdown",
   "metadata": {},
   "source": [
    "## Load Data"
   ]
  },
  {
   "cell_type": "code",
   "execution_count": 14,
   "metadata": {},
   "outputs": [
    {
     "name": "stdout",
     "output_type": "stream",
     "text": [
      "(250000, 30) (568238, 30) (250000,) (568238,)\n"
     ]
    }
   ],
   "source": [
    "y_train, x_train, id_train = load_csv_data('data/train.csv')\n",
    "y_test, x_test, id_test = load_csv_data('data/test.csv')\n",
    "print(x_train.shape, x_test.shape, y_train.shape, y_test.shape)\n",
    "x_train = standardize(x_train)[0]\n",
    "x_test = standardize(x_test)[0]"
   ]
  },
  {
   "cell_type": "code",
   "execution_count": 16,
   "metadata": {},
   "outputs": [
    {
     "name": "stdout",
     "output_type": "stream",
     "text": [
      "0.38895231493722143\n",
      "0.6981061015385469\n"
     ]
    }
   ],
   "source": [
    "w, loss = least_squares(y_train, x_train)\n",
    "print(loss)\n",
    "print(compute_loss(y_test, x_test, w))\n"
   ]
  },
  {
   "cell_type": "code",
   "execution_count": 36,
   "metadata": {},
   "outputs": [
    {
     "name": "stdout",
     "output_type": "stream",
     "text": [
      "0.5153180137768574\n"
     ]
    }
   ],
   "source": [
    "lambdas = np.arange(0, 2, 0.01)\n",
    "losses = []\n",
    "for i in lambdas:\n",
    "    w, loss = ridge_regression(y_train, x_train, 2)\n",
    "    losses.append(compute_loss(y_test, x_test, w))\n",
    "print(np.min(losses))"
   ]
  },
  {
   "cell_type": "code",
   "execution_count": 39,
   "metadata": {},
   "outputs": [
    {
     "name": "stdout",
     "output_type": "stream",
     "text": [
      "0.5\n"
     ]
    }
   ],
   "source": [
    "lambdas = np.arange(0, 2, 0.1)\n",
    "losses = []\n",
    "for i in lambdas:\n",
    "    w, loss = logistic_regression(y_train, x_train, np.zeros(30), 50, i)\n",
    "    losses.append(compute_loss(y_test, x_test, w))\n",
    "print(np.min(losses))"
   ]
  },
  {
   "cell_type": "code",
   "execution_count": 41,
   "metadata": {},
   "outputs": [
    {
     "name": "stdout",
     "output_type": "stream",
     "text": [
      "0.563306217197356\n"
     ]
    }
   ],
   "source": [
    "lambdas = np.arange(0, 2, 0.1)\n",
    "losses = []\n",
    "for i in lambdas:\n",
    "    w, loss = reg_logistic_regression(y_train, x_train, i, np.zeros(30), 50, 0.1)\n",
    "    losses.append(compute_loss(y_test, x_test, w))\n",
    "print(np.min(losses))"
   ]
  }
 ],
 "metadata": {
  "kernelspec": {
   "display_name": "Python 3.9.13 ('ada')",
   "language": "python",
   "name": "python3"
  },
  "language_info": {
   "codemirror_mode": {
    "name": "ipython",
    "version": 3
   },
   "file_extension": ".py",
   "mimetype": "text/x-python",
   "name": "python",
   "nbconvert_exporter": "python",
   "pygments_lexer": "ipython3",
   "version": "3.9.13"
  },
  "orig_nbformat": 4,
  "vscode": {
   "interpreter": {
    "hash": "0d00fa60d55de8b7e410201337c62de4ddc89fbea421e7cf3f923f4aa4ba8995"
   }
  }
 },
 "nbformat": 4,
 "nbformat_minor": 2
}
