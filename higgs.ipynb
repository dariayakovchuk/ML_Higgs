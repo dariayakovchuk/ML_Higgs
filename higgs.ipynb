{
 "cells": [
  {
   "cell_type": "code",
   "execution_count": 1,
   "metadata": {},
   "outputs": [],
   "source": [
    "import numpy as np\n",
    "from implementations import *\n",
    "from helpers import *\n",
    "import seaborn as sns"
   ]
  },
  {
   "cell_type": "markdown",
   "metadata": {},
   "source": [
    "## Load Data"
   ]
  },
  {
   "cell_type": "code",
   "execution_count": 25,
   "metadata": {},
   "outputs": [],
   "source": [
    "y, x, id = load_csv_data(\"data/train.csv\")\n",
    "x = standardize(x)[0]\n",
    "y[y==-1]=0 # LR works properly with replacement"
   ]
  },
  {
   "cell_type": "code",
   "execution_count": 26,
   "outputs": [],
   "source": [
    "x_train, x_test, y_train, y_test = split_data(x, y, 0.70)"
   ],
   "metadata": {
    "collapsed": false
   }
  },
  {
   "cell_type": "code",
   "execution_count": 27,
   "outputs": [
    {
     "data": {
      "text/plain": "(array([0., 1.]), array([49229, 25771], dtype=int64))"
     },
     "execution_count": 27,
     "metadata": {},
     "output_type": "execute_result"
    }
   ],
   "source": [
    "np.unique(y_test, return_counts=True)"
   ],
   "metadata": {
    "collapsed": false
   }
  },
  {
   "cell_type": "code",
   "execution_count": 28,
   "metadata": {},
   "outputs": [
    {
     "name": "stdout",
     "output_type": "stream",
     "text": [
      "0.14354705757605168\n",
      "0.14365041202765783\n"
     ]
    }
   ],
   "source": [
    "w, loss = least_squares(y_train, x_train)\n",
    "print(loss)\n",
    "print(compute_loss(y_test, x_test, w))"
   ]
  },
  {
   "cell_type": "code",
   "execution_count": 29,
   "metadata": {},
   "outputs": [
    {
     "name": "stdout",
     "output_type": "stream",
     "text": [
      "0.1593719275163605\n"
     ]
    }
   ],
   "source": [
    "lambdas = np.arange(0, 2, 0.01)\n",
    "losses = []\n",
    "for i in lambdas:\n",
    "    w, loss = ridge_regression(y_train, x_train, 2)\n",
    "    losses.append(compute_loss(y_test, x_test, w))\n",
    "print(np.min(losses))"
   ]
  },
  {
   "cell_type": "code",
   "execution_count": 30,
   "outputs": [],
   "source": [
    "def logistic_regression(y, tx, initial_w, max_iters, gamma):\n",
    "    \"\"\"return the loss, gradient of the loss, and hessian of the loss.\n",
    "\n",
    "    Args:\n",
    "        y:  shape=(N, 1)\n",
    "        tx: shape=(N, D)\n",
    "        w:  shape=(D, 1)\n",
    "\n",
    "    Returns:\n",
    "        loss: scalar number\n",
    "    \"\"\"\n",
    "    w = initial_w\n",
    "    loss = calculate_loss_logistic(y, tx, w)\n",
    "    for n_iter in range(max_iters):\n",
    "        loss, w = learning_by_gradient_descent(y, tx, w, gamma)\n",
    "    loss = calculate_loss_logistic(y, tx, w)\n",
    "    return w, loss"
   ],
   "metadata": {
    "collapsed": false
   }
  },
  {
   "cell_type": "code",
   "execution_count": 36,
   "metadata": {},
   "outputs": [
    {
     "name": "stderr",
     "output_type": "stream",
     "text": [
      "d:\\VSC_projects\\ML_Higgs\\implementations.py:29: RuntimeWarning: divide by zero encountered in log\n",
      "  return np.sum(-(1 / y.shape[0]) * (y.T.dot(np.log(sigmoid(tx.dot(w))))+ (1 - y).T.dot(np.log(1 - sigmoid(tx.dot(w))))))\n"
     ]
    },
    {
     "name": "stdout",
     "output_type": "stream",
     "text": [
      "\n",
      "(array([227], dtype=int64),)\n"
     ]
    }
   ],
   "source": [
    "lambdas = np.arange(0, 1, 0.05)\n",
    "losses = []\n",
    "max_iters = np.arange(35, 150, 10)\n",
    "w = []\n",
    "lambda1 = []\n",
    "max_iter1 = []\n",
    "for i in lambdas:\n",
    "    for j in max_iters:\n",
    "        w, loss = logistic_regression(y_train, x_train, np.zeros(30), j, i)\n",
    "        losses.append(calculate_loss_logistic(y_test, x_test, w))\n",
    "        lambda1.append(i)\n",
    "        max_iter1.append(j)\n",
    "print()\n",
    "# losses = np.nan_to_num(losses, nan = 1)\n",
    "index = np.where(losses == np.min(losses))\n",
    "print(index)"
   ]
  },
  {
   "cell_type": "code",
   "execution_count": 37,
   "outputs": [
    {
     "name": "stdout",
     "output_type": "stream",
     "text": [
      "Test loss:  [0.56302726]\n",
      "Lambda:  0.9\n",
      "Itersations:  145\n"
     ]
    }
   ],
   "source": [
    "print(\"Test loss: \", losses[index])\n",
    "print(\"Lambda: \", lambda1[int(index[0])])\n",
    "print(\"Itersations: \", max_iter1[int(index[0])])\n"
   ],
   "metadata": {
    "collapsed": false
   }
  },
  {
   "cell_type": "code",
   "execution_count": 33,
   "outputs": [],
   "source": [
    "def reg_logistic_regression(y, tx, lambda_, initial_w, max_iters, gamma):\n",
    "    \"\"\"return the loss and gradient.\n",
    "    Args:\n",
    "        y:  shape=(N, 1)\n",
    "        tx: shape=(N, D)\n",
    "        w:  shape=(D, 1)\n",
    "        lambda_: scalar\n",
    "    \"\"\"\n",
    "    w = initial_w\n",
    "    loss = calculate_loss_logistic(y, tx, w)\n",
    "    for iter in range(max_iters):\n",
    "        loss, w = learning_by_penalized_gradient(y, tx, w, gamma, lambda_)\n",
    "    loss = calculate_loss_logistic(y, tx, w)   + lambda_ * np.sum(np.square(w))\n",
    "    return w, loss"
   ],
   "metadata": {
    "collapsed": false
   }
  },
  {
   "cell_type": "code",
   "execution_count": 34,
   "metadata": {},
   "outputs": [
    {
     "ename": "KeyboardInterrupt",
     "evalue": "",
     "output_type": "error",
     "traceback": [
      "\u001B[1;31m---------------------------------------------------------------------------\u001B[0m",
      "\u001B[1;31mKeyboardInterrupt\u001B[0m                         Traceback (most recent call last)",
      "Input \u001B[1;32mIn [34]\u001B[0m, in \u001B[0;36m<cell line: 7>\u001B[1;34m()\u001B[0m\n\u001B[0;32m      8\u001B[0m \u001B[38;5;28;01mfor\u001B[39;00m j \u001B[38;5;129;01min\u001B[39;00m lambdas:\n\u001B[0;32m      9\u001B[0m     \u001B[38;5;28;01mfor\u001B[39;00m k \u001B[38;5;129;01min\u001B[39;00m max_iters:\n\u001B[1;32m---> 10\u001B[0m         w, loss \u001B[38;5;241m=\u001B[39m \u001B[43mreg_logistic_regression\u001B[49m\u001B[43m(\u001B[49m\u001B[43my_train\u001B[49m\u001B[43m,\u001B[49m\u001B[43m \u001B[49m\u001B[43mx_train\u001B[49m\u001B[43m,\u001B[49m\u001B[43m \u001B[49m\u001B[43mi\u001B[49m\u001B[43m,\u001B[49m\u001B[43m \u001B[49m\u001B[43mnp\u001B[49m\u001B[38;5;241;43m.\u001B[39;49m\u001B[43mzeros\u001B[49m\u001B[43m(\u001B[49m\u001B[38;5;241;43m30\u001B[39;49m\u001B[43m)\u001B[49m\u001B[43m,\u001B[49m\u001B[43m \u001B[49m\u001B[43mk\u001B[49m\u001B[43m,\u001B[49m\u001B[43m \u001B[49m\u001B[43mj\u001B[49m\u001B[43m)\u001B[49m\n\u001B[0;32m     11\u001B[0m         losses\u001B[38;5;241m.\u001B[39mappend(calculate_loss_logistic(y_test, x_test, w))\n\u001B[0;32m     12\u001B[0m         lambda1\u001B[38;5;241m.\u001B[39mappend(i)\n",
      "Input \u001B[1;32mIn [33]\u001B[0m, in \u001B[0;36mreg_logistic_regression\u001B[1;34m(y, tx, lambda_, initial_w, max_iters, gamma)\u001B[0m\n\u001B[0;32m     10\u001B[0m loss \u001B[38;5;241m=\u001B[39m calculate_loss_logistic(y, tx, w)\n\u001B[0;32m     11\u001B[0m \u001B[38;5;28;01mfor\u001B[39;00m \u001B[38;5;28miter\u001B[39m \u001B[38;5;129;01min\u001B[39;00m \u001B[38;5;28mrange\u001B[39m(max_iters):\n\u001B[1;32m---> 12\u001B[0m     loss, w \u001B[38;5;241m=\u001B[39m \u001B[43mlearning_by_penalized_gradient\u001B[49m\u001B[43m(\u001B[49m\u001B[43my\u001B[49m\u001B[43m,\u001B[49m\u001B[43m \u001B[49m\u001B[43mtx\u001B[49m\u001B[43m,\u001B[49m\u001B[43m \u001B[49m\u001B[43mw\u001B[49m\u001B[43m,\u001B[49m\u001B[43m \u001B[49m\u001B[43mgamma\u001B[49m\u001B[43m,\u001B[49m\u001B[43m \u001B[49m\u001B[43mlambda_\u001B[49m\u001B[43m)\u001B[49m\n\u001B[0;32m     13\u001B[0m loss \u001B[38;5;241m=\u001B[39m calculate_loss_logistic(y, tx, w)   \u001B[38;5;241m+\u001B[39m lambda_ \u001B[38;5;241m*\u001B[39m np\u001B[38;5;241m.\u001B[39msum(np\u001B[38;5;241m.\u001B[39msquare(w))\n\u001B[0;32m     14\u001B[0m \u001B[38;5;28;01mreturn\u001B[39;00m w, loss\n",
      "File \u001B[1;32m~\\PycharmProjects\\ML_project\\ML_Higgs\\implementations.py:236\u001B[0m, in \u001B[0;36mlearning_by_penalized_gradient\u001B[1;34m(y, tx, w, gamma, lambda_)\u001B[0m\n\u001B[0;32m    220\u001B[0m \u001B[38;5;28;01mdef\u001B[39;00m \u001B[38;5;21mlearning_by_penalized_gradient\u001B[39m(y, tx, w, gamma, lambda_):\n\u001B[0;32m    221\u001B[0m     \u001B[38;5;124;03m\"\"\"\u001B[39;00m\n\u001B[0;32m    222\u001B[0m \u001B[38;5;124;03m    Do one step of gradient descent, using the penalized logistic regression.\u001B[39;00m\n\u001B[0;32m    223\u001B[0m \u001B[38;5;124;03m    Return the loss and updated w.\u001B[39;00m\n\u001B[1;32m   (...)\u001B[0m\n\u001B[0;32m    234\u001B[0m \u001B[38;5;124;03m        w: shape=(D, 1)\u001B[39;00m\n\u001B[0;32m    235\u001B[0m \u001B[38;5;124;03m    \"\"\"\u001B[39;00m\n\u001B[1;32m--> 236\u001B[0m     loss, grad \u001B[38;5;241m=\u001B[39m \u001B[43mpenalized_logistic_regression\u001B[49m\u001B[43m(\u001B[49m\u001B[43my\u001B[49m\u001B[43m,\u001B[49m\u001B[43m \u001B[49m\u001B[43mtx\u001B[49m\u001B[43m,\u001B[49m\u001B[43m \u001B[49m\u001B[43mw\u001B[49m\u001B[43m,\u001B[49m\u001B[43m \u001B[49m\u001B[43mlambda_\u001B[49m\u001B[43m)\u001B[49m\n\u001B[0;32m    237\u001B[0m     w \u001B[38;5;241m=\u001B[39m w \u001B[38;5;241m-\u001B[39m gamma \u001B[38;5;241m*\u001B[39m grad\n\u001B[0;32m    238\u001B[0m     \u001B[38;5;28;01mreturn\u001B[39;00m loss, w\n",
      "File \u001B[1;32m~\\PycharmProjects\\ML_project\\ML_Higgs\\implementations.py:215\u001B[0m, in \u001B[0;36mpenalized_logistic_regression\u001B[1;34m(y, tx, w, lambda_)\u001B[0m\n\u001B[0;32m    202\u001B[0m \u001B[38;5;28;01mdef\u001B[39;00m \u001B[38;5;21mpenalized_logistic_regression\u001B[39m(y, tx, w, lambda_):\n\u001B[0;32m    203\u001B[0m     \u001B[38;5;124;03m\"\"\"return the loss and gradient.\u001B[39;00m\n\u001B[0;32m    204\u001B[0m \n\u001B[0;32m    205\u001B[0m \u001B[38;5;124;03m    Args:\u001B[39;00m\n\u001B[1;32m   (...)\u001B[0m\n\u001B[0;32m    213\u001B[0m \u001B[38;5;124;03m        gradient: shape=(D, 1)\u001B[39;00m\n\u001B[0;32m    214\u001B[0m \u001B[38;5;124;03m    \"\"\"\u001B[39;00m\n\u001B[1;32m--> 215\u001B[0m     loss \u001B[38;5;241m=\u001B[39m \u001B[43mcalculate_loss_logistic\u001B[49m\u001B[43m(\u001B[49m\u001B[43my\u001B[49m\u001B[43m,\u001B[49m\u001B[43m \u001B[49m\u001B[43mtx\u001B[49m\u001B[43m,\u001B[49m\u001B[43m \u001B[49m\u001B[43mw\u001B[49m\u001B[43m)\u001B[49m  \u001B[38;5;241m+\u001B[39m lambda_ \u001B[38;5;241m*\u001B[39m np\u001B[38;5;241m.\u001B[39msum(np\u001B[38;5;241m.\u001B[39msquare(w))\n\u001B[0;32m    216\u001B[0m     grad \u001B[38;5;241m=\u001B[39m calculate_gradient_logistic(y, tx, w) \u001B[38;5;241m+\u001B[39m \u001B[38;5;241m2\u001B[39m \u001B[38;5;241m*\u001B[39m lambda_ \u001B[38;5;241m*\u001B[39m w\n\u001B[0;32m    217\u001B[0m     \u001B[38;5;28;01mreturn\u001B[39;00m loss, grad\n",
      "File \u001B[1;32m~\\PycharmProjects\\ML_project\\ML_Higgs\\implementations.py:33\u001B[0m, in \u001B[0;36mcalculate_loss_logistic\u001B[1;34m(y, tx, w)\u001B[0m\n\u001B[0;32m     18\u001B[0m \u001B[38;5;28;01mdef\u001B[39;00m \u001B[38;5;21mcalculate_loss_logistic\u001B[39m(y, tx, w):\n\u001B[0;32m     19\u001B[0m     \u001B[38;5;124;03m\"\"\"compute the cost by negative log likelihood.\u001B[39;00m\n\u001B[0;32m     20\u001B[0m \n\u001B[0;32m     21\u001B[0m \u001B[38;5;124;03m    Args:\u001B[39;00m\n\u001B[1;32m   (...)\u001B[0m\n\u001B[0;32m     27\u001B[0m \u001B[38;5;124;03m        a non-negative loss\u001B[39;00m\n\u001B[0;32m     28\u001B[0m \u001B[38;5;124;03m    \"\"\"\u001B[39;00m\n\u001B[0;32m     29\u001B[0m     \u001B[38;5;28;01mreturn\u001B[39;00m np\u001B[38;5;241m.\u001B[39msum(\n\u001B[0;32m     30\u001B[0m         \u001B[38;5;241m-\u001B[39m(\u001B[38;5;241m1\u001B[39m \u001B[38;5;241m/\u001B[39m y\u001B[38;5;241m.\u001B[39mshape[\u001B[38;5;241m0\u001B[39m])\n\u001B[0;32m     31\u001B[0m         \u001B[38;5;241m*\u001B[39m (\n\u001B[0;32m     32\u001B[0m             y\u001B[38;5;241m.\u001B[39mT\u001B[38;5;241m.\u001B[39mdot(np\u001B[38;5;241m.\u001B[39mlog(sigmoid(tx\u001B[38;5;241m.\u001B[39mdot(w))))\n\u001B[1;32m---> 33\u001B[0m             \u001B[38;5;241m+\u001B[39m (\u001B[38;5;241m1\u001B[39m \u001B[38;5;241m-\u001B[39m y)\u001B[38;5;241m.\u001B[39mT\u001B[38;5;241m.\u001B[39mdot(np\u001B[38;5;241m.\u001B[39mlog(\u001B[38;5;241m1\u001B[39m \u001B[38;5;241m-\u001B[39m \u001B[43msigmoid\u001B[49m\u001B[43m(\u001B[49m\u001B[43mtx\u001B[49m\u001B[38;5;241;43m.\u001B[39;49m\u001B[43mdot\u001B[49m\u001B[43m(\u001B[49m\u001B[43mw\u001B[49m\u001B[43m)\u001B[49m\u001B[43m)\u001B[49m))\n\u001B[0;32m     34\u001B[0m         )\n\u001B[0;32m     35\u001B[0m     )\n",
      "File \u001B[1;32m~\\PycharmProjects\\ML_project\\ML_Higgs\\implementations.py:160\u001B[0m, in \u001B[0;36msigmoid\u001B[1;34m(t)\u001B[0m\n\u001B[0;32m    150\u001B[0m \u001B[38;5;28;01mdef\u001B[39;00m \u001B[38;5;21msigmoid\u001B[39m(t):\n\u001B[0;32m    151\u001B[0m     \u001B[38;5;124;03m\"\"\"apply sigmoid function on t.\u001B[39;00m\n\u001B[0;32m    152\u001B[0m \n\u001B[0;32m    153\u001B[0m \u001B[38;5;124;03m    Args:\u001B[39;00m\n\u001B[1;32m   (...)\u001B[0m\n\u001B[0;32m    158\u001B[0m \n\u001B[0;32m    159\u001B[0m \u001B[38;5;124;03m    \"\"\"\u001B[39;00m\n\u001B[1;32m--> 160\u001B[0m     \u001B[38;5;28;01mreturn\u001B[39;00m np\u001B[38;5;241m.\u001B[39mexp(t)\u001B[38;5;241m/\u001B[39m (\u001B[38;5;241m1\u001B[39m \u001B[38;5;241m+\u001B[39m \u001B[43mnp\u001B[49m\u001B[38;5;241;43m.\u001B[39;49m\u001B[43mexp\u001B[49m\u001B[43m(\u001B[49m\u001B[43mt\u001B[49m\u001B[43m)\u001B[49m)\n",
      "\u001B[1;31mKeyboardInterrupt\u001B[0m: "
     ]
    }
   ],
   "source": [
    "lambdas = np.arange(0, 1, 0.05)\n",
    "max_iters = np.arange(5, 40, 5)\n",
    "losses = []\n",
    "lambda1 = []\n",
    "max_iter1 = []\n",
    "gamma = []\n",
    "for i in lambdas:\n",
    "    for j in lambdas:\n",
    "        for k in max_iters:\n",
    "            w, loss = reg_logistic_regression(y_train, x_train, i, np.zeros(30), k, j)\n",
    "            losses.append(calculate_loss_logistic(y_test, x_test, w))\n",
    "            lambda1.append(i)\n",
    "            max_iter1.append(k)\n",
    "            gamma.append(j)\n",
    "\n",
    "\n",
    "print()\n",
    "# losses = np.nan_to_num(losses, nan = 1)\n",
    "index = np.where(losses == np.min(losses))\n",
    "print(index)"
   ]
  },
  {
   "cell_type": "code",
   "execution_count": null,
   "outputs": [],
   "source": [
    "print(\"Test loss: \", losses[index])\n",
    "print(\"Lambda: \", lambda1[int(index[0])])\n",
    "print(\"Gamma: \", gamma[int(index[0])])\n",
    "print(\"Itersations: \", max_iter1[int(index[0])])"
   ],
   "metadata": {
    "collapsed": false
   }
  },
  {
   "cell_type": "code",
   "execution_count": 69,
   "outputs": [],
   "source": [
    "corr = np.zeros((x_train.shape[1], x_train.shape[1]))"
   ],
   "metadata": {
    "collapsed": false
   }
  },
  {
   "cell_type": "code",
   "execution_count": 70,
   "outputs": [],
   "source": [
    "for i in range(x_train.shape[1]):\n",
    "   for j in range(x_train.shape[1]):\n",
    "       corr[i][j] = np.corrcoef(x = x_train[:1000, i], y= x_train[:1000, j])[0, 1]"
   ],
   "metadata": {
    "collapsed": false
   }
  },
  {
   "cell_type": "code",
   "execution_count": 71,
   "outputs": [
    {
     "data": {
      "text/plain": "<AxesSubplot:>"
     },
     "execution_count": 71,
     "metadata": {},
     "output_type": "execute_result"
    },
    {
     "data": {
      "text/plain": "<Figure size 640x480 with 2 Axes>",
      "image/png": "[encoded data removed]"
     },
     "metadata": {},
     "output_type": "display_data"
    }
   ],
   "source": [
    "sns.heatmap(corr)\n"
   ],
   "metadata": {
    "collapsed": false
   }
  }
 ],
 "metadata": {
  "kernelspec": {
   "display_name": "Python 3.9.13 ('ada')",
   "language": "python",
   "name": "python3"
  },
  "language_info": {
   "codemirror_mode": {
    "name": "ipython",
    "version": 3
   },
   "file_extension": ".py",
   "mimetype": "text/x-python",
   "name": "python",
   "nbconvert_exporter": "python",
   "pygments_lexer": "ipython3",
   "version": "3.9.13"
  },
  "orig_nbformat": 4,
  "vscode": {
   "interpreter": {
    "hash": "0d00fa60d55de8b7e410201337c62de4ddc89fbea421e7cf3f923f4aa4ba8995"
   }
  }
 },
 "nbformat": 4,
 "nbformat_minor": 2
}
