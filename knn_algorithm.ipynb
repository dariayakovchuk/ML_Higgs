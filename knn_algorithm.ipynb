{
 "cells": [
  {
   "cell_type": "code",
   "execution_count": 1,
   "id": "820346f3",
   "metadata": {},
   "outputs": [],
   "source": [
    "# Useful starting lines\n",
    "import numpy as np\n",
    "import matplotlib.pyplot as plt\n",
    "%load_ext autoreload\n",
    "%autoreload 2\n",
    "\n",
    "import pandas as pd\n",
    "\n",
    "from tqdm.auto import tqdm\n",
    "\n",
    "np.random.seed(239) "
   ]
  },
  {
   "cell_type": "code",
   "execution_count": 2,
   "id": "96c44787",
   "metadata": {},
   "outputs": [],
   "source": [
    "from implementations import *\n",
    "from helpers import *\n",
    "\n",
    "y, X, ids = load_csv_data(\"data/train.csv\")\n",
    "y[y == -1] = 0"
   ]
  },
  {
   "cell_type": "code",
   "execution_count": 3,
   "id": "ef1f3c4d",
   "metadata": {},
   "outputs": [
    {
     "data": {
      "text/plain": [
       "((250000, 31), (250000,))"
      ]
     },
     "execution_count": 3,
     "metadata": {},
     "output_type": "execute_result"
    }
   ],
   "source": [
    "X = np.concatenate((X, np.ones((len(X), 1))), axis=1)\n",
    "X.shape, y.shape"
   ]
  },
  {
   "cell_type": "code",
   "execution_count": 4,
   "id": "46908434",
   "metadata": {},
   "outputs": [
    {
     "data": {
      "text/plain": [
       "(568238, 31)"
      ]
     },
     "execution_count": 4,
     "metadata": {},
     "output_type": "execute_result"
    }
   ],
   "source": [
    "X_test = np.genfromtxt('data/test.csv', delimiter=\",\", skip_header=1)\n",
    "X_test = X_test[:, 2:]\n",
    "X_test = np.concatenate((X_test, np.ones((len(X_test), 1))), axis=1)\n",
    "X_test.shape"
   ]
  },
  {
   "cell_type": "code",
   "execution_count": 5,
   "id": "04b3fafc",
   "metadata": {},
   "outputs": [],
   "source": [
    "def imputer(data):\n",
    "    data[data == -999] = np.nan\n",
    "    col_mean = np.nanmedian(data, axis=0)\n",
    "    inds = np.where(np.isnan(data))\n",
    "    data[inds] = np.take(col_mean, inds[1])\n",
    "    return data"
   ]
  },
  {
   "cell_type": "markdown",
   "id": "d4e480c2",
   "metadata": {},
   "source": [
    "Replacing missing values(-999) with the median and standardization of the train and test data"
   ]
  },
  {
   "cell_type": "code",
   "execution_count": 6,
   "id": "f09886c4",
   "metadata": {},
   "outputs": [],
   "source": [
    "X = imputer(X)\n",
    "X_test = imputer(X_test)"
   ]
  },
  {
   "cell_type": "code",
   "execution_count": 7,
   "id": "e8196a1a",
   "metadata": {},
   "outputs": [],
   "source": [
    "X, _, _ = standardize(X)\n",
    "X_test, _, _ = standardize(X_test)"
   ]
  },
  {
   "cell_type": "markdown",
   "id": "cc4e33a7",
   "metadata": {},
   "source": [
    "### knn\n",
    "\n",
    "The function works as follows:\n",
    "\n",
    "First, we count the array `dists`, which are the pairwise distances between the train and test points. \n",
    "\n",
    "\n",
    "Then for each point from the test we take the nearest `k` neighbors and sort the resulting array. After that, using prefix sums, we count the answer for each value of the number of neighbors from 1 to `k` (as an average value).\n",
    "\n",
    "\n",
    "Thus, each prediction will be equal to a number from 0 to 1 (the average value of classes of its neighbors). And then we convert this number to a class simply by trasholding `0.5`."
   ]
  },
  {
   "cell_type": "code",
   "execution_count": 8,
   "id": "c55c445c",
   "metadata": {},
   "outputs": [],
   "source": [
    "# Implementation of the K-nearest neighbors algorithm\n",
    "# It takes as input test and train data \n",
    "# and the number k - the maximum number of neighbors for which we need to calculate the predictions.\n",
    "\n",
    "# The function returns a matrix ys of shape (len(X_test, k)\n",
    "# Where ys[i][j] is the answer for the i-th element of the test dataset and k = j\n",
    "def knn(X_train, y_train, X_test, k):\n",
    "    X_train_sqr = np.sum(X_train ** 2, axis=1)\n",
    "    X_test_sqr = np.sum(X_test ** 2, axis=1)\n",
    "    \n",
    "    # Array of pairwise distances\n",
    "    dists = X_test_sqr[:, None] - 2 * X_test @ X_train.T + X_train_sqr[None, :]\n",
    "\n",
    "    # We choose only the minimum k neighbors\n",
    "    min_dists = np.argpartition(dists, k - 1, axis=1)[:, :k]\n",
    "    \n",
    "    # We leave only these minimum neighbors and sort the remaining array of distances\n",
    "    dists = dists[np.arange(len(dists))[:, None], min_dists]\n",
    "    min_dists2 = np.argsort(dists, axis=1)\n",
    "    \n",
    "    # Using prefix sums, we calculate the answer for each number of neighbors from 1 to k (as an average over them)\n",
    "    ys = np.cumsum(y_train[min_dists[np.arange(len(min_dists2))[:, None], min_dists2]], axis = 1) / (np.arange(k) + 1)\n",
    "    ys = (ys >= 0.5).astype(np.float64)\n",
    "    \n",
    "    return ys"
   ]
  },
  {
   "cell_type": "markdown",
   "id": "fcc61b1c",
   "metadata": {},
   "source": [
    "Function of cross validation, which splits a train into train (80\\% of initial quantity) and test (20\\% of initial quantity) works quickly (about 3 minutes) and outputs accuracy value for test validation data for any k."
   ]
  },
  {
   "cell_type": "code",
   "execution_count": 9,
   "id": "f5d02580",
   "metadata": {},
   "outputs": [],
   "source": [
    "from tqdm.auto import tqdm, trange\n",
    "\n",
    "# Cross validation function for knn\n",
    "# Divides the train set by 80% for training and 20% for validation.\n",
    "# And it calculates accuracy for each number of neighbors from 1 to k\n",
    "# Returns the values of all accuracy\n",
    "def cross_validation(X, y, k):  \n",
    "    X_train, X_test, y_train, y_test = split_data(X, y, 0.8)\n",
    "\n",
    "    # Batch size to pass only part of X_test to knn function (to avoid memory overflow)\n",
    "    BATCH_SZ = 512\n",
    "    y_pred_array = []\n",
    "    for i in trange(0, len(X_test), BATCH_SZ):\n",
    "        y_pred_array.append(knn(X_train, y_train, X_test[i:i + BATCH_SZ], k))\n",
    "        \n",
    "    y_pred = np.concatenate(y_pred_array)\n",
    "    \n",
    "    accuracy = []\n",
    "    for i in range(k):\n",
    "        accuracy.append(np.sum(y_pred[:, i] == y_test) / len(y_test))\n",
    "        \n",
    "    # We can also use MSE-loss instead of accracy\n",
    "    # loo_mses = []\n",
    "    # for i in range(k):\n",
    "    #    loo_mses.append(np.mean((y_pred[:, i] - y_test)**2))\n",
    "        \n",
    "    return accuracy"
   ]
  },
  {
   "cell_type": "code",
   "execution_count": 10,
   "id": "c6bf54b5",
   "metadata": {},
   "outputs": [
    {
     "data": {
      "application/vnd.jupyter.widget-view+json": {
       "model_id": "8a8b94102bfa4f238c6f4fe714b7a28c",
       "version_major": 2,
       "version_minor": 0
      },
      "text/plain": [
       "  0%|          | 0/98 [00:00<?, ?it/s]"
      ]
     },
     "metadata": {},
     "output_type": "display_data"
    }
   ],
   "source": [
    "# Calculating the best k and build an accuracy plot\n",
    "k = 1000\n",
    "ks = np.arange(k) + 1\n",
    "values = cross_validation(X, y, k=k)"
   ]
  },
  {
   "cell_type": "code",
   "execution_count": 11,
   "id": "f60fc7a4",
   "metadata": {},
   "outputs": [
    {
     "data": {
      "image/png": "[encoded data removed]",
      "text/plain": [
       "<Figure size 640x480 with 1 Axes>"
      ]
     },
     "metadata": {},
     "output_type": "display_data"
    },
    {
     "name": "stdout",
     "output_type": "stream",
     "text": [
      "Max accuracy = 0.80592 Best k = 29\n"
     ]
    }
   ],
   "source": [
    "plt.plot(ks, values)\n",
    "plt.xlabel('k')\n",
    "plt.ylabel('accuracy')\n",
    "plt.title('Accuracy for k-nearest neighbor method for different k')\n",
    "\n",
    "plt.show()\n",
    "\n",
    "print('Max accuracy =', np.max(values), 'Best k =', ks[np.argmax(values)])\n",
    "k_opt = ks[np.argmax(values)]"
   ]
  },
  {
   "cell_type": "code",
   "execution_count": 12,
   "id": "d0dd830b",
   "metadata": {},
   "outputs": [
    {
     "data": {
      "application/vnd.jupyter.widget-view+json": {
       "model_id": "53a6e3ab7d99441b9b56809a0a722c69",
       "version_major": 2,
       "version_minor": 0
      },
      "text/plain": [
       "  0%|          | 0/555 [00:00<?, ?it/s]"
      ]
     },
     "metadata": {},
     "output_type": "display_data"
    }
   ],
   "source": [
    "# Calculating the predictions for the test data\n",
    "BATCH_SZ = 1024\n",
    "predictions = []\n",
    "\n",
    "for i in trange(0, len(X_test), BATCH_SZ):\n",
    "    predictions.append(knn(X, y, X_test[i:i + BATCH_SZ], k=k_opt)[:, k_opt - 1])\n",
    "\n",
    "predictions_knn = np.concatenate(predictions)\n",
    "predictions_knn[predictions_knn == 0] = -1\n",
    "\n",
    "# Accuracy = 0.808\n",
    "data_test = pd.read_csv('data/test.csv')\n",
    "create_csv_submission(np.array(data_test.Id), predictions_knn, 'knn')"
   ]
  }
 ],
 "metadata": {
  "kernelspec": {
   "display_name": "Python 3 (ipykernel)",
   "language": "python",
   "name": "python3"
  },
  "language_info": {
   "codemirror_mode": {
    "name": "ipython",
    "version": 3
   },
   "file_extension": ".py",
   "mimetype": "text/x-python",
   "name": "python",
   "nbconvert_exporter": "python",
   "pygments_lexer": "ipython3",
   "version": "3.10.4"
  }
 },
 "nbformat": 4,
 "nbformat_minor": 5
}
