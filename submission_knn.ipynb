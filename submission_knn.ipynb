{
 "cells": [
  {
   "cell_type": "code",
   "execution_count": 1,
   "id": "820346f3",
   "metadata": {},
   "outputs": [],
   "source": [
    "# Useful starting lines\n",
    "import numpy as np\n",
    "import matplotlib.pyplot as plt\n",
    "%load_ext autoreload\n",
    "%autoreload 2\n",
    "\n",
    "import pandas as pd\n",
    "\n",
    "from tqdm.auto import tqdm"
   ]
  },
  {
   "cell_type": "code",
   "execution_count": 2,
   "id": "96c44787",
   "metadata": {},
   "outputs": [],
   "source": [
    "from implementations import *\n",
    "from helpers import *\n",
    "\n",
    "y, X, ids = load_csv_data(\"data/train.csv\")\n",
    "y[y == -1] = 0"
   ]
  },
  {
   "cell_type": "code",
   "execution_count": 3,
   "id": "fe137b7c",
   "metadata": {},
   "outputs": [],
   "source": [
    "# X = standardize(X)[0]"
   ]
  },
  {
   "cell_type": "code",
   "execution_count": 4,
   "id": "ef1f3c4d",
   "metadata": {},
   "outputs": [
    {
     "data": {
      "text/plain": [
       "((250000,), (250000, 31))"
      ]
     },
     "execution_count": 4,
     "metadata": {},
     "output_type": "execute_result"
    }
   ],
   "source": [
    "X = np.concatenate((X, np.ones((len(X), 1))), axis=1)\n",
    "y.shape, X.shape"
   ]
  },
  {
   "cell_type": "code",
   "execution_count": 5,
   "id": "0ea5557c",
   "metadata": {},
   "outputs": [],
   "source": [
    "def imputer(data):\n",
    "    data[data == -999] = np.nan\n",
    "    col_mean = np.nanmedian(data, axis=0)\n",
    "    inds = np.where(np.isnan(data))\n",
    "    data[inds] = np.take(col_mean, inds[1])\n",
    "    return data\n"
   ]
  },
  {
   "cell_type": "code",
   "execution_count": 6,
   "id": "56706e3e",
   "metadata": {},
   "outputs": [],
   "source": [
    "data = np.concatenate((y.reshape(y.shape[0], 1), X), axis=1)"
   ]
  },
  {
   "cell_type": "code",
   "execution_count": 7,
   "id": "db2739f0",
   "metadata": {},
   "outputs": [],
   "source": [
    "# data_test = pd.read_csv('data/test.csv')\n",
    "# X_test = np.array(data_test)[:, 2:]\n",
    "# # X_test = standardize(X_test)[0]\n",
    "# X_test = np.concatenate((X_test, np.ones((len(X_test), 1))), axis=1)\n",
    "# X_test.shape"
   ]
  },
  {
   "cell_type": "code",
   "execution_count": 8,
   "id": "ae72379d",
   "metadata": {},
   "outputs": [
    {
     "data": {
      "text/plain": [
       "(568238, 31)"
      ]
     },
     "execution_count": 8,
     "metadata": {},
     "output_type": "execute_result"
    }
   ],
   "source": [
    "X_test = np.genfromtxt('data/test.csv', delimiter=\",\", skip_header=1)\n",
    "X_test = X_test[:, 2:]\n",
    "X_test = np.concatenate((X_test, np.ones((len(X_test), 1))), axis=1)\n",
    "X_test.shape"
   ]
  },
  {
   "cell_type": "code",
   "execution_count": 9,
   "id": "456e6831",
   "metadata": {},
   "outputs": [],
   "source": [
    "X = imputer(X)\n",
    "X_test = imputer(X_test)"
   ]
  },
  {
   "cell_type": "code",
   "execution_count": 10,
   "id": "e8196a1a",
   "metadata": {},
   "outputs": [],
   "source": [
    "X, _, _ = standardize(X)\n",
    "X_test, _, _ = standardize(X_test)"
   ]
  },
  {
   "cell_type": "code",
   "execution_count": 11,
   "id": "1ee6e215",
   "metadata": {},
   "outputs": [
    {
     "data": {
      "text/plain": [
       "(250000, 31)"
      ]
     },
     "execution_count": 11,
     "metadata": {},
     "output_type": "execute_result"
    }
   ],
   "source": [
    "X.shape"
   ]
  },
  {
   "cell_type": "code",
   "execution_count": 12,
   "id": "ca85ffd3",
   "metadata": {},
   "outputs": [
    {
     "data": {
      "text/plain": [
       "(568238, 31)"
      ]
     },
     "execution_count": 12,
     "metadata": {},
     "output_type": "execute_result"
    }
   ],
   "source": [
    "X_test.shape"
   ]
  },
  {
   "cell_type": "code",
   "execution_count": 13,
   "id": "3a998609",
   "metadata": {},
   "outputs": [],
   "source": [
    "def normalize(X_train, X_test):\n",
    "    mean = np.mean(X_train, axis=0)\n",
    "    std = np.std(X_train, axis=0)\n",
    "    mean[std == 0] = 0\n",
    "    std[std == 0] = 1\n",
    "    return (X_train - mean) / std, (X_test - mean) / std"
   ]
  },
  {
   "cell_type": "code",
   "execution_count": 14,
   "id": "c55c445c",
   "metadata": {},
   "outputs": [],
   "source": [
    "def knn_all_k(X_train, y_train, X_test, k):\n",
    "#     print(X_train.shape)\n",
    "#     print(X_test.shape)\n",
    "    \n",
    "    \n",
    "#     X_train, X_test = normalize(X_train, X_test)\n",
    "    \n",
    "    X_train_sqr = np.sum(X_train ** 2, axis=1)\n",
    "    X_test_sqr = np.sum(X_test ** 2, axis=1)\n",
    "\n",
    "    dists = X_test_sqr[:, None] - 2 * X_test @ X_train.T + X_train_sqr[None, :]\n",
    "\n",
    "    min_dists = np.argpartition(dists, k - 1, axis=1)[:, :k]\n",
    "    \n",
    "    dists = dists[np.arange(len(dists))[:, None], min_dists]\n",
    "   \n",
    "    min_dists2 = np.argsort(dists, axis=1)\n",
    "    \n",
    "    ys3 = np.cumsum(y_train[min_dists[np.arange(len(min_dists2))[:, None], min_dists2]], axis = 1) / (np.arange(k) + 1)\n",
    "    ys3 = (ys3 >= 0.5).astype(np.float64)\n",
    "    \n",
    "    return ys3"
   ]
  },
  {
   "cell_type": "code",
   "execution_count": 15,
   "id": "f5d02580",
   "metadata": {},
   "outputs": [],
   "source": [
    "from tqdm.auto import tqdm, trange\n",
    "\n",
    "# Cross-validation\n",
    "def cross_validation(X, y, method, k):\n",
    "    \n",
    "#     print(k)\n",
    "    \n",
    "    X_train, X_test, y_train, y_test = split_data(X, y, 0.8)\n",
    "\n",
    "    BATCH_SZ = 512\n",
    "    y_pred_array = []\n",
    "    print('len', len(X_test))\n",
    "    \n",
    "    for i in trange(0, len(X_test), BATCH_SZ):\n",
    "        y_pred_array.append(knn_all_k(X_train, y_train, X_test[i:i + BATCH_SZ], k))\n",
    "        \n",
    "    y_pred = np.concatenate(y_pred_array)\n",
    "    \n",
    "    \n",
    "    accuracy = []\n",
    "    for i in range(k):\n",
    "        accuracy.append(np.sum(y_pred[:, i] == y_test) / len(y_test))\n",
    "#     loo_mses = []\n",
    "#     for i in range(k):\n",
    "#         loo_mses.append( np.mean((y_pred[:, i] - y_test)**2))\n",
    "        \n",
    "    return accuracy"
   ]
  },
  {
   "cell_type": "code",
   "execution_count": 16,
   "id": "5dcb1e7d",
   "metadata": {},
   "outputs": [],
   "source": [
    "def knn(X_train, y_train, X_test, k):\n",
    "#     X_train, X_test = normalize(X_train, X_test)\n",
    "    \n",
    "    X_train_sqr = np.sum(X_train ** 2, axis=1)\n",
    "    X_test_sqr = np.sum(X_test ** 2, axis=1)\n",
    "    \n",
    "#     diffs = X_test[:, None, :] - X_train[None, :, :]\n",
    "    \n",
    "#     dists = np.linalg.norm(diffs, axis=-1)\n",
    "    \n",
    "    dists = X_test_sqr[:, None] - 2 * X_test @ X_train.T + X_train_sqr[None, :]\n",
    "    \n",
    "#     assert np.allclose(dists ** 2, dists2)\n",
    "    \n",
    "    min_dists = np.argpartition(dists, k - 1, axis=1)[:, :k]\n",
    "#     min_dists = np.argsort(dists, axis=1)[:, :k]\n",
    "    \n",
    "    ys = np.mean(y_train[min_dists], axis = 1)\n",
    "    \n",
    "#     ys2 = np.cumsum(y_train[min_dists], axis = 1) / (np.arange(k) + 1)\n",
    "    \n",
    "#     print(ys[:10])\n",
    "#     print(ys2[:10])\n",
    "    \n",
    "    ys = (ys >= 0.5).astype(np.float64)\n",
    "#     ys2 = (ys2 >= 0.5).astype(np.float64)\n",
    "#     print(ys)\n",
    "#     print(ys2)\n",
    "    \n",
    "    return ys"
   ]
  },
  {
   "cell_type": "code",
   "execution_count": 17,
   "id": "71d8c45d",
   "metadata": {},
   "outputs": [
    {
     "name": "stdout",
     "output_type": "stream",
     "text": [
      "len 50000\n"
     ]
    },
    {
     "data": {
      "application/vnd.jupyter.widget-view+json": {
       "model_id": "77bd82bd0a3448c19db862aa254dfd8a",
       "version_major": 2,
       "version_minor": 0
      },
      "text/plain": [
       "  0%|          | 0/98 [00:00<?, ?it/s]"
      ]
     },
     "metadata": {},
     "output_type": "display_data"
    },
    {
     "name": "stdout",
     "output_type": "stream",
     "text": [
      "0.80592 29\n"
     ]
    },
    {
     "data": {
      "image/png": "[encoded data removed]",
      "text/plain": [
       "<Figure size 640x480 with 1 Axes>"
      ]
     },
     "metadata": {},
     "output_type": "display_data"
    }
   ],
   "source": [
    "k = 1000\n",
    "ks = np.arange(k) + 1\n",
    "values = cross_validation(X, y, knn_all_k, k=k)\n",
    "    \n",
    "plt.plot(ks, values)\n",
    "print(np.max(values), ks[np.argmax(values)])\n",
    "\n",
    "k_opt = ks[np.argmax(values)]"
   ]
  },
  {
   "cell_type": "code",
   "execution_count": 18,
   "id": "48795946",
   "metadata": {},
   "outputs": [
    {
     "data": {
      "text/plain": [
       "array([[ 2.61960507e+00,  1.46145906e+00,  2.39604049e+00, ...,\n",
       "        -2.52875949e+00,  1.15794991e+00,  1.00000000e+00],\n",
       "       [ 3.04464058e+00,  1.94563192e+00,  2.52849663e+00, ...,\n",
       "        -2.04344201e-03,  4.71619448e-01,  1.00000000e+00],\n",
       "       [ 2.12652075e+00,  4.58828262e+00,  3.08492019e+00, ...,\n",
       "        -2.04344201e-03,  4.51469567e-01,  1.00000000e+00],\n",
       "       ...,\n",
       "       [ 1.99505808e+00,  1.71244354e+00,  1.85749655e+00, ...,\n",
       "        -2.04344201e-03,  4.28422184e-01,  1.00000000e+00],\n",
       "       [ 1.79630332e+00,  5.47803123e-01,  1.68538684e+00, ...,\n",
       "        -2.04344201e-03,  0.00000000e+00,  1.00000000e+00],\n",
       "       [ 2.12652075e+00,  2.05846318e+00,  1.73483746e+00, ...,\n",
       "        -2.04344201e-03,  0.00000000e+00,  1.00000000e+00]])"
      ]
     },
     "execution_count": 18,
     "metadata": {},
     "output_type": "execute_result"
    }
   ],
   "source": [
    "X"
   ]
  },
  {
   "cell_type": "code",
   "execution_count": null,
   "id": "b021b8ef",
   "metadata": {},
   "outputs": [
    {
     "data": {
      "application/vnd.jupyter.widget-view+json": {
       "model_id": "3ab5296d0d7a41758aee573afac8aee2",
       "version_major": 2,
       "version_minor": 0
      },
      "text/plain": [
       "  0%|          | 0/555 [00:00<?, ?it/s]"
      ]
     },
     "metadata": {},
     "output_type": "display_data"
    }
   ],
   "source": [
    "BATCH_SZ = 1024\n",
    "predictions = []\n",
    "\n",
    "for i in trange(0, len(X_test), BATCH_SZ):\n",
    "    predictions.append(knn_all_k(X, y, X_test[i:i + BATCH_SZ], k=k_opt)[:, k_opt - 1])\n",
    "\n",
    "predictions_knn_35 = np.concatenate(predictions)\n",
    "predictions_knn_35[predictions_knn_35 == 0] = -1\n",
    "\n",
    "result = data_test.Id.to_frame()\n",
    "result['Prediction'] = predictions_knn_35\n",
    "result.to_csv('knn_35_wo_nan', index=False)"
   ]
  }
 ],
 "metadata": {
  "kernelspec": {
   "display_name": "Python 3 (ipykernel)",
   "language": "python",
   "name": "python3"
  },
  "language_info": {
   "codemirror_mode": {
    "name": "ipython",
    "version": 3
   },
   "file_extension": ".py",
   "mimetype": "text/x-python",
   "name": "python",
   "nbconvert_exporter": "python",
   "pygments_lexer": "ipython3",
   "version": "3.10.4"
  }
 },
 "nbformat": 4,
 "nbformat_minor": 5
}
